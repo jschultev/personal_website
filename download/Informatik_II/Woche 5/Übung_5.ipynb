{
 "cells": [
  {
   "cell_type": "markdown",
   "id": "cc52e572-a290-429b-9748-c64fc3f14690",
   "metadata": {},
   "source": [
    "## Übung 5\n"
   ]
  },
  {
   "cell_type": "markdown",
   "id": "dff79932-83ee-44e7-8143-d690f6b413c7",
   "metadata": {},
   "source": [
    "**Aufgabe 1**"
   ]
  },
  {
   "cell_type": "code",
   "execution_count": 5,
   "id": "a3d89ce8-1d51-4315-aa61-ebf24ca09113",
   "metadata": {},
   "outputs": [],
   "source": [
    "class Student:\n",
    "  def __init__(self):\n",
    "    self.name = \"\"\n",
    "  def sleep(self, hours):\n",
    "    print(self.name, \"slept for\", hours, \"hours\")\n",
    "  def eat(self, food):\n",
    "    print(self.name, \"ate\", food)\n",
    "  def study(self, hours, subject):\n",
    "    print(self.name, \"studied\", subject, \"for\", hours, \"hours\")\n",
    "\n",
    "names = [\"Anne\", \"Ben\", \"Charles\", \"David\", \"Elena\", \"Fiona\"]"
   ]
  },
  {
   "cell_type": "code",
   "execution_count": null,
   "id": "ec57bc63-35b0-40a2-8419-cbec366f8a47",
   "metadata": {},
   "outputs": [],
   "source": []
  },
  {
   "cell_type": "markdown",
   "id": "f2a69f87-9110-487a-a591-ab86c2933463",
   "metadata": {},
   "source": [
    "**Lösung 1**"
   ]
  },
  {
   "cell_type": "code",
   "execution_count": 10,
   "id": "53c899b2-8d31-4df8-8dda-eb459203115e",
   "metadata": {
    "editable": true,
    "jupyter": {
     "source_hidden": true
    },
    "slideshow": {
     "slide_type": ""
    },
    "tags": []
   },
   "outputs": [],
   "source": [
    "\n",
    "students = [Student() for _ in names]\n",
    "for student, name in zip(students, names):\n",
    "  student.name = name\n",
    "\n",
    "for student in students:\n",
    "  student.sleep(9)\n",
    "  student.study(6, \"Informatik\")\n",
    "  student.eat(\"pizza\")"
   ]
  }
 ],
 "metadata": {
  "kernelspec": {
   "display_name": "Python 3 (ipykernel)",
   "language": "python",
   "name": "python3"
  },
  "language_info": {
   "codemirror_mode": {
    "name": "ipython",
    "version": 3
   },
   "file_extension": ".py",
   "mimetype": "text/x-python",
   "name": "python",
   "nbconvert_exporter": "python",
   "pygments_lexer": "ipython3",
   "version": "3.11.6"
  }
 },
 "nbformat": 4,
 "nbformat_minor": 5
}
